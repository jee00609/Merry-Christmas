{
 "cells": [
  {
   "cell_type": "code",
   "execution_count": 64,
   "metadata": {},
   "outputs": [
    {
     "name": "stdout",
     "output_type": "stream",
     "text": [
      "  Merry Christmas!\n",
      "\n",
      "         +\n",
      "        +++\n",
      "       +++++\n",
      "      +++++++\n",
      "     +++++++++\n",
      "    +++++++++++\n",
      "   +++++++++++++\n",
      "  +++++++++++++++\n",
      " +++++++++++++++++\n",
      "+++++++++++++++++++\n",
      "        ++\n",
      "       ++++\n",
      "      ++++++\n",
      "     ++++++++\n",
      "    ++++++++++\n",
      "   ++++++++++++\n",
      "  ++++++++++++++\n",
      " ++++++++++++++++\n",
      "++++++++++++++++++\n",
      "        ++\n",
      "       ++++\n",
      "      ++++++\n",
      "     ++++++++\n",
      "    ++++++++++\n",
      "   ++++++++++++\n",
      "  ++++++++++++++\n",
      " ++++++++++++++++\n",
      "++++++++++++++++++\n",
      "        ***\n",
      "        ***\n",
      "        ***\n"
     ]
    }
   ],
   "source": [
    "line = 10\n",
    "print(\"  Merry Christmas!\")\n",
    "print()\n",
    "\n",
    "for x in range(1, line * 2, 2):\n",
    "    print((\" \" * ( (line * 2 - 1 - x) // 2 )) + (\"+\" * x))\n",
    "\n",
    "for x in range(2, line * 2, 2):\n",
    "    print((\" \" * ( (line * 2 - 1 - x) // 2 )) + (\"+\" * x))\n",
    "\n",
    "for x in range(2, line * 2, 2):\n",
    "    print((\" \" * ( (line * 2 - 1 - x) // 2 )) + (\"+\" * x))\n",
    "    \n",
    "for y in range(1, 4):\n",
    "    print(\" \" * (line-2) + \"***\")\n",
    "    "
   ]
  }
 ],
 "metadata": {
  "kernelspec": {
   "display_name": "Python 3",
   "language": "python",
   "name": "python3"
  },
  "language_info": {
   "codemirror_mode": {
    "name": "ipython",
    "version": 3
   },
   "file_extension": ".py",
   "mimetype": "text/x-python",
   "name": "python",
   "nbconvert_exporter": "python",
   "pygments_lexer": "ipython3",
   "version": "3.6.10"
  }
 },
 "nbformat": 4,
 "nbformat_minor": 4
}
